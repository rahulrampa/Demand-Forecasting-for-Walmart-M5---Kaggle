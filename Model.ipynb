{
 "cells": [
  {
   "cell_type": "code",
   "execution_count": 21,
   "id": "32249182",
   "metadata": {
    "id": "32249182"
   },
   "outputs": [],
   "source": [
    "import pandas as pd\n",
    "import numpy as np\n",
    "import matplotlib.pyplot as plt\n",
    "import plotly.express as px\n",
    "import seaborn as sns\n",
    "import plotly.graph_objects as go\n",
    "from IPython.display import Image\n",
    "import random\n",
    "\n",
    "import warnings\n",
    "warnings.filterwarnings(\"ignore\")"
   ]
  },
  {
   "cell_type": "code",
   "execution_count": 20,
   "id": "5e180411",
   "metadata": {
    "id": "5e180411",
    "outputId": "7aadee6d-2f44-4bb4-e1c0-bb0323cc55b7"
   },
   "outputs": [
    {
     "data": {
      "text/html": [
       "<div>\n",
       "<style scoped>\n",
       "    .dataframe tbody tr th:only-of-type {\n",
       "        vertical-align: middle;\n",
       "    }\n",
       "\n",
       "    .dataframe tbody tr th {\n",
       "        vertical-align: top;\n",
       "    }\n",
       "\n",
       "    .dataframe thead th {\n",
       "        text-align: right;\n",
       "    }\n",
       "</style>\n",
       "<table border=\"1\" class=\"dataframe\">\n",
       "  <thead>\n",
       "    <tr style=\"text-align: right;\">\n",
       "      <th></th>\n",
       "      <th>id</th>\n",
       "      <th>item_id</th>\n",
       "      <th>dept_id</th>\n",
       "      <th>cat_id</th>\n",
       "      <th>store_id</th>\n",
       "      <th>state_id</th>\n",
       "      <th>d</th>\n",
       "      <th>sales</th>\n",
       "      <th>wm_yr_wk</th>\n",
       "      <th>wday</th>\n",
       "      <th>...</th>\n",
       "      <th>sold_lag_35</th>\n",
       "      <th>sold_lag_42</th>\n",
       "      <th>sold_lag_49</th>\n",
       "      <th>sold_lag_56</th>\n",
       "      <th>item_sold_avg</th>\n",
       "      <th>avg_sold_storewis</th>\n",
       "      <th>avg_sold_statewis</th>\n",
       "      <th>avg_sold_catwis</th>\n",
       "      <th>avg_sold_store_item</th>\n",
       "      <th>avg_sold_state_item</th>\n",
       "    </tr>\n",
       "  </thead>\n",
       "  <tbody>\n",
       "    <tr>\n",
       "      <th>45735000</th>\n",
       "      <td>14370</td>\n",
       "      <td>1437</td>\n",
       "      <td>3</td>\n",
       "      <td>1</td>\n",
       "      <td>0</td>\n",
       "      <td>0</td>\n",
       "      <td>1501</td>\n",
       "      <td>0</td>\n",
       "      <td>11506</td>\n",
       "      <td>3</td>\n",
       "      <td>...</td>\n",
       "      <td>0.0</td>\n",
       "      <td>1.0</td>\n",
       "      <td>1.0</td>\n",
       "      <td>2.0</td>\n",
       "      <td>0.216553</td>\n",
       "      <td>1.304688</td>\n",
       "      <td>1.21582</td>\n",
       "      <td>0.561035</td>\n",
       "      <td>0.321533</td>\n",
       "      <td>0.335938</td>\n",
       "    </tr>\n",
       "    <tr>\n",
       "      <th>45735001</th>\n",
       "      <td>14380</td>\n",
       "      <td>1438</td>\n",
       "      <td>3</td>\n",
       "      <td>1</td>\n",
       "      <td>0</td>\n",
       "      <td>0</td>\n",
       "      <td>1501</td>\n",
       "      <td>1</td>\n",
       "      <td>11506</td>\n",
       "      <td>3</td>\n",
       "      <td>...</td>\n",
       "      <td>0.0</td>\n",
       "      <td>0.0</td>\n",
       "      <td>0.0</td>\n",
       "      <td>2.0</td>\n",
       "      <td>0.259766</td>\n",
       "      <td>1.304688</td>\n",
       "      <td>1.21582</td>\n",
       "      <td>0.561035</td>\n",
       "      <td>0.253906</td>\n",
       "      <td>0.204346</td>\n",
       "    </tr>\n",
       "    <tr>\n",
       "      <th>45735002</th>\n",
       "      <td>14390</td>\n",
       "      <td>1439</td>\n",
       "      <td>3</td>\n",
       "      <td>1</td>\n",
       "      <td>0</td>\n",
       "      <td>0</td>\n",
       "      <td>1501</td>\n",
       "      <td>0</td>\n",
       "      <td>11506</td>\n",
       "      <td>3</td>\n",
       "      <td>...</td>\n",
       "      <td>0.0</td>\n",
       "      <td>1.0</td>\n",
       "      <td>0.0</td>\n",
       "      <td>1.0</td>\n",
       "      <td>0.076660</td>\n",
       "      <td>1.304688</td>\n",
       "      <td>1.21582</td>\n",
       "      <td>0.561035</td>\n",
       "      <td>0.156982</td>\n",
       "      <td>0.098938</td>\n",
       "    </tr>\n",
       "    <tr>\n",
       "      <th>45735003</th>\n",
       "      <td>14400</td>\n",
       "      <td>1440</td>\n",
       "      <td>3</td>\n",
       "      <td>1</td>\n",
       "      <td>0</td>\n",
       "      <td>0</td>\n",
       "      <td>1501</td>\n",
       "      <td>1</td>\n",
       "      <td>11506</td>\n",
       "      <td>3</td>\n",
       "      <td>...</td>\n",
       "      <td>0.0</td>\n",
       "      <td>3.0</td>\n",
       "      <td>8.0</td>\n",
       "      <td>2.0</td>\n",
       "      <td>2.011719</td>\n",
       "      <td>1.304688</td>\n",
       "      <td>1.21582</td>\n",
       "      <td>0.561035</td>\n",
       "      <td>1.694336</td>\n",
       "      <td>2.935547</td>\n",
       "    </tr>\n",
       "    <tr>\n",
       "      <th>45735004</th>\n",
       "      <td>14410</td>\n",
       "      <td>1441</td>\n",
       "      <td>3</td>\n",
       "      <td>1</td>\n",
       "      <td>0</td>\n",
       "      <td>0</td>\n",
       "      <td>1501</td>\n",
       "      <td>1</td>\n",
       "      <td>11506</td>\n",
       "      <td>3</td>\n",
       "      <td>...</td>\n",
       "      <td>1.0</td>\n",
       "      <td>0.0</td>\n",
       "      <td>1.0</td>\n",
       "      <td>0.0</td>\n",
       "      <td>0.755371</td>\n",
       "      <td>1.304688</td>\n",
       "      <td>1.21582</td>\n",
       "      <td>0.561035</td>\n",
       "      <td>0.958984</td>\n",
       "      <td>0.968750</td>\n",
       "    </tr>\n",
       "  </tbody>\n",
       "</table>\n",
       "<p>5 rows × 34 columns</p>\n",
       "</div>"
      ],
      "text/plain": [
       "             id  item_id  dept_id  cat_id  store_id  state_id     d  sales  \\\n",
       "45735000  14370     1437        3       1         0         0  1501      0   \n",
       "45735001  14380     1438        3       1         0         0  1501      1   \n",
       "45735002  14390     1439        3       1         0         0  1501      0   \n",
       "45735003  14400     1440        3       1         0         0  1501      1   \n",
       "45735004  14410     1441        3       1         0         0  1501      1   \n",
       "\n",
       "          wm_yr_wk  wday  ...  sold_lag_35  sold_lag_42  sold_lag_49  \\\n",
       "45735000     11506     3  ...          0.0          1.0          1.0   \n",
       "45735001     11506     3  ...          0.0          0.0          0.0   \n",
       "45735002     11506     3  ...          0.0          1.0          0.0   \n",
       "45735003     11506     3  ...          0.0          3.0          8.0   \n",
       "45735004     11506     3  ...          1.0          0.0          1.0   \n",
       "\n",
       "          sold_lag_56  item_sold_avg  avg_sold_storewis  avg_sold_statewis  \\\n",
       "45735000          2.0       0.216553           1.304688            1.21582   \n",
       "45735001          2.0       0.259766           1.304688            1.21582   \n",
       "45735002          1.0       0.076660           1.304688            1.21582   \n",
       "45735003          2.0       2.011719           1.304688            1.21582   \n",
       "45735004          0.0       0.755371           1.304688            1.21582   \n",
       "\n",
       "          avg_sold_catwis  avg_sold_store_item  avg_sold_state_item  \n",
       "45735000         0.561035             0.321533             0.335938  \n",
       "45735001         0.561035             0.253906             0.204346  \n",
       "45735002         0.561035             0.156982             0.098938  \n",
       "45735003         0.561035             1.694336             2.935547  \n",
       "45735004         0.561035             0.958984             0.968750  \n",
       "\n",
       "[5 rows x 34 columns]"
      ]
     },
     "execution_count": 20,
     "metadata": {},
     "output_type": "execute_result"
    }
   ],
   "source": [
    "data=pd.read_pickle('df_final.pkl')\n",
    "#data.drop('weights',inplace=True,axis=1)\n",
    "data.head()"
   ]
  },
  {
   "cell_type": "markdown",
   "id": "107d0090",
   "metadata": {
    "id": "107d0090"
   },
   "source": [
    "# splitting"
   ]
  },
  {
   "cell_type": "code",
   "execution_count": 22,
   "id": "ce073599",
   "metadata": {
    "id": "ce073599"
   },
   "outputs": [],
   "source": [
    "def split_data(data):\n",
    "\n",
    "    #Product details upto day 1913 is used as training dataset\n",
    "    X_train = data[data['d']<=1913]\n",
    "    y_train = X_train['sales']\n",
    "    X_train.drop('sales',axis = 1,inplace = True)\n",
    "    \n",
    "    # Product details from day 1914 to 1941 is used as validation dataset\n",
    "    X_val = data[(data['d']>=1914) & (data['d']<=1941)]\n",
    "    y_val = X_val['sales']\n",
    "    X_val.drop(['sales'],axis = 1,inplace = True)\n",
    "    \n",
    "    # Product details starting from day 1942 is used as testing dataset\n",
    "    X_test = data[(data['d']>=1942)]\n",
    "    X_test.drop(['sales'],axis = 1,inplace = True)\n",
    "    \n",
    "    #print(\"Train dataset\",X_train.shape,y_train.shape)\n",
    "    #print(\"Validation dataset\",X_val.shape,y_val.shape)\n",
    "    #print(\"Test dataset\",X_test.shape)\n",
    "    return(X_train,y_train,X_val,y_val,X_test)"
   ]
  },
  {
   "cell_type": "code",
   "execution_count": 23,
   "id": "ba90b0dd",
   "metadata": {
    "id": "ba90b0dd"
   },
   "outputs": [],
   "source": [
    "def reshape(input):\n",
    "    value = np.reshape(input, (-1, 28),order = 'F')\n",
    "    return value"
   ]
  },
  {
   "cell_type": "code",
   "execution_count": 24,
   "id": "7e24bb8d",
   "metadata": {
    "id": "7e24bb8d"
   },
   "outputs": [],
   "source": [
    "from tqdm import tqdm"
   ]
  },
  {
   "cell_type": "code",
   "execution_count": 25,
   "id": "cdf6f08e",
   "metadata": {
    "id": "cdf6f08e"
   },
   "outputs": [],
   "source": [
    "def submission_term(val_predict,test_predict):\n",
    "        \n",
    "    val_pred =reshape(val_predict)\n",
    "    test_pred=reshape(test_predict)\n",
    "    \n",
    "    submission=pd.read_csv(\"sample_submission.csv\")\n",
    "    \n",
    "    for ind in tqdm(range(28)):\n",
    "        submission.iloc[:30490,ind+1]=val_pred[:,ind]\n",
    "        submission.iloc[30490:,ind+1]=test_pred[:,ind]\n",
    "        \n",
    "    return submission"
   ]
  },
  {
   "cell_type": "code",
   "execution_count": 29,
   "id": "3589c700",
   "metadata": {},
   "outputs": [],
   "source": [
    "xtrain,ytrain,xval,yval,xtest=split_data(data)\n"
   ]
  },
  {
   "cell_type": "markdown",
   "id": "be42c6e1",
   "metadata": {
    "id": "be42c6e1"
   },
   "source": [
    "# Linear Regression"
   ]
  },
  {
   "cell_type": "code",
   "execution_count": 14,
   "id": "b6b2f77e",
   "metadata": {
    "id": "b6b2f77e"
   },
   "outputs": [],
   "source": [
    "from sklearn.metrics import mean_squared_error as mse\n",
    "from sklearn.linear_model import LinearRegression"
   ]
  },
  {
   "cell_type": "code",
   "execution_count": 16,
   "id": "6558a694",
   "metadata": {
    "id": "6558a694",
    "outputId": "3ed6e34e-8c0e-4204-c7ac-2c5bebaf98f6"
   },
   "outputs": [
    {
     "data": {
      "text/plain": [
       "LinearRegression(n_jobs=-1)"
      ]
     },
     "execution_count": 16,
     "metadata": {},
     "output_type": "execute_result"
    }
   ],
   "source": [
    "model = LinearRegression(n_jobs=-1)\n",
    "model.fit(xtrain,ytrain)"
   ]
  },
  {
   "cell_type": "code",
   "execution_count": 9,
   "id": "312a1b8a",
   "metadata": {
    "id": "312a1b8a"
   },
   "outputs": [],
   "source": [
    "yval_pred  = model.predict(xval)\n",
    "ytest_pred = model.predict(xtest)"
   ]
  },
  {
   "cell_type": "code",
   "execution_count": 10,
   "id": "e1b939bf",
   "metadata": {
    "id": "e1b939bf",
    "outputId": "9425e804-f6e3-4d46-98d5-4af96e0d3dd7"
   },
   "outputs": [
    {
     "name": "stdout",
     "output_type": "stream",
     "text": [
      "5.020013\n"
     ]
    },
    {
     "name": "stderr",
     "output_type": "stream",
     "text": [
      "100%|██████████████████████████████████████████| 28/28 [00:00<00:00, 621.98it/s]\n"
     ]
    }
   ],
   "source": [
    "rmse = mse(yval,yval_pred)\n",
    "\n",
    "print(rmse)\n",
    "\n",
    "submission1 = submission_term(yval_pred,ytest_pred)\n",
    "#submission1.to_csv('sample_submission_new.csv')\n",
    "#submission1.head()"
   ]
  },
  {
   "cell_type": "markdown",
   "id": "9bafb161",
   "metadata": {
    "id": "9bafb161"
   },
   "source": [
    "# Ridge Regression"
   ]
  },
  {
   "cell_type": "code",
   "execution_count": 16,
   "id": "99ea952d",
   "metadata": {
    "id": "99ea952d"
   },
   "outputs": [],
   "source": [
    "from sklearn import linear_model"
   ]
  },
  {
   "cell_type": "code",
   "execution_count": 17,
   "id": "f2c1a110",
   "metadata": {
    "id": "f2c1a110"
   },
   "outputs": [
    {
     "ename": "NameError",
     "evalue": "name 'xtrain' is not defined",
     "output_type": "error",
     "traceback": [
      "\u001b[0;31m---------------------------------------------------------------------------\u001b[0m",
      "\u001b[0;31mNameError\u001b[0m                                 Traceback (most recent call last)",
      "Input \u001b[0;32mIn [17]\u001b[0m, in \u001b[0;36m<cell line: 2>\u001b[0;34m()\u001b[0m\n\u001b[1;32m      1\u001b[0m model2\u001b[38;5;241m=\u001b[39mlinear_model\u001b[38;5;241m.\u001b[39mRidge()\n\u001b[0;32m----> 2\u001b[0m model2\u001b[38;5;241m.\u001b[39mfit(\u001b[43mxtrain\u001b[49m,ytrain)\n",
      "\u001b[0;31mNameError\u001b[0m: name 'xtrain' is not defined"
     ]
    }
   ],
   "source": [
    "model2=linear_model.Ridge()\n",
    "model2.fit(xtrain,ytrain)"
   ]
  },
  {
   "cell_type": "code",
   "execution_count": 13,
   "id": "982b915e",
   "metadata": {
    "id": "982b915e"
   },
   "outputs": [],
   "source": [
    "yval_pred  = model2.predict(xval)\n",
    "ytest_pred = model2.predict(xtest)"
   ]
  },
  {
   "cell_type": "code",
   "execution_count": 14,
   "id": "f787c751",
   "metadata": {
    "id": "f787c751"
   },
   "outputs": [
    {
     "name": "stdout",
     "output_type": "stream",
     "text": [
      "5.025259\n"
     ]
    },
    {
     "name": "stderr",
     "output_type": "stream",
     "text": [
      "100%|█████████████████████████████████████████| 28/28 [00:00<00:00, 1206.58it/s]\n"
     ]
    },
    {
     "data": {
      "text/html": [
       "<div>\n",
       "<style scoped>\n",
       "    .dataframe tbody tr th:only-of-type {\n",
       "        vertical-align: middle;\n",
       "    }\n",
       "\n",
       "    .dataframe tbody tr th {\n",
       "        vertical-align: top;\n",
       "    }\n",
       "\n",
       "    .dataframe thead th {\n",
       "        text-align: right;\n",
       "    }\n",
       "</style>\n",
       "<table border=\"1\" class=\"dataframe\">\n",
       "  <thead>\n",
       "    <tr style=\"text-align: right;\">\n",
       "      <th></th>\n",
       "      <th>id</th>\n",
       "      <th>F1</th>\n",
       "      <th>F2</th>\n",
       "      <th>F3</th>\n",
       "      <th>F4</th>\n",
       "      <th>F5</th>\n",
       "      <th>F6</th>\n",
       "      <th>F7</th>\n",
       "      <th>F8</th>\n",
       "      <th>F9</th>\n",
       "      <th>...</th>\n",
       "      <th>F19</th>\n",
       "      <th>F20</th>\n",
       "      <th>F21</th>\n",
       "      <th>F22</th>\n",
       "      <th>F23</th>\n",
       "      <th>F24</th>\n",
       "      <th>F25</th>\n",
       "      <th>F26</th>\n",
       "      <th>F27</th>\n",
       "      <th>F28</th>\n",
       "    </tr>\n",
       "  </thead>\n",
       "  <tbody>\n",
       "    <tr>\n",
       "      <th>0</th>\n",
       "      <td>HOBBIES_1_001_CA_1_validation</td>\n",
       "      <td>0.494873</td>\n",
       "      <td>0.671143</td>\n",
       "      <td>0.594971</td>\n",
       "      <td>0.410156</td>\n",
       "      <td>0.790527</td>\n",
       "      <td>0.484375</td>\n",
       "      <td>0.981445</td>\n",
       "      <td>0.449951</td>\n",
       "      <td>1.213379</td>\n",
       "      <td>...</td>\n",
       "      <td>0.741943</td>\n",
       "      <td>1.250977</td>\n",
       "      <td>1.158447</td>\n",
       "      <td>0.719482</td>\n",
       "      <td>0.781982</td>\n",
       "      <td>0.730225</td>\n",
       "      <td>1.053711</td>\n",
       "      <td>0.481689</td>\n",
       "      <td>1.223389</td>\n",
       "      <td>0.851074</td>\n",
       "    </tr>\n",
       "    <tr>\n",
       "      <th>1</th>\n",
       "      <td>HOBBIES_1_002_CA_1_validation</td>\n",
       "      <td>0.452881</td>\n",
       "      <td>0.240234</td>\n",
       "      <td>0.249023</td>\n",
       "      <td>0.427734</td>\n",
       "      <td>0.289795</td>\n",
       "      <td>0.473145</td>\n",
       "      <td>0.614014</td>\n",
       "      <td>0.446533</td>\n",
       "      <td>0.314209</td>\n",
       "      <td>...</td>\n",
       "      <td>0.345215</td>\n",
       "      <td>0.532715</td>\n",
       "      <td>0.575684</td>\n",
       "      <td>0.253662</td>\n",
       "      <td>0.192871</td>\n",
       "      <td>0.353271</td>\n",
       "      <td>0.287354</td>\n",
       "      <td>0.370361</td>\n",
       "      <td>0.473145</td>\n",
       "      <td>0.481689</td>\n",
       "    </tr>\n",
       "    <tr>\n",
       "      <th>2</th>\n",
       "      <td>HOBBIES_1_003_CA_1_validation</td>\n",
       "      <td>0.259766</td>\n",
       "      <td>0.263184</td>\n",
       "      <td>0.133301</td>\n",
       "      <td>0.141846</td>\n",
       "      <td>0.316162</td>\n",
       "      <td>0.895020</td>\n",
       "      <td>0.695801</td>\n",
       "      <td>0.307129</td>\n",
       "      <td>0.501709</td>\n",
       "      <td>...</td>\n",
       "      <td>0.759033</td>\n",
       "      <td>0.792480</td>\n",
       "      <td>0.985107</td>\n",
       "      <td>0.369385</td>\n",
       "      <td>0.452637</td>\n",
       "      <td>0.484619</td>\n",
       "      <td>0.506836</td>\n",
       "      <td>0.677002</td>\n",
       "      <td>0.681885</td>\n",
       "      <td>0.854980</td>\n",
       "    </tr>\n",
       "    <tr>\n",
       "      <th>3</th>\n",
       "      <td>HOBBIES_1_004_CA_1_validation</td>\n",
       "      <td>2.083984</td>\n",
       "      <td>1.457275</td>\n",
       "      <td>1.212891</td>\n",
       "      <td>1.629639</td>\n",
       "      <td>1.593750</td>\n",
       "      <td>2.004150</td>\n",
       "      <td>2.822998</td>\n",
       "      <td>1.883789</td>\n",
       "      <td>1.739990</td>\n",
       "      <td>...</td>\n",
       "      <td>2.035400</td>\n",
       "      <td>2.268066</td>\n",
       "      <td>3.036865</td>\n",
       "      <td>2.040527</td>\n",
       "      <td>1.673828</td>\n",
       "      <td>1.769775</td>\n",
       "      <td>1.499268</td>\n",
       "      <td>1.791992</td>\n",
       "      <td>3.079590</td>\n",
       "      <td>2.970215</td>\n",
       "    </tr>\n",
       "    <tr>\n",
       "      <th>4</th>\n",
       "      <td>HOBBIES_1_005_CA_1_validation</td>\n",
       "      <td>1.173828</td>\n",
       "      <td>1.068848</td>\n",
       "      <td>1.486084</td>\n",
       "      <td>1.108154</td>\n",
       "      <td>1.218262</td>\n",
       "      <td>1.354980</td>\n",
       "      <td>1.568115</td>\n",
       "      <td>1.189697</td>\n",
       "      <td>1.430908</td>\n",
       "      <td>...</td>\n",
       "      <td>1.203369</td>\n",
       "      <td>1.327393</td>\n",
       "      <td>1.647461</td>\n",
       "      <td>0.996338</td>\n",
       "      <td>1.036133</td>\n",
       "      <td>1.124023</td>\n",
       "      <td>1.348877</td>\n",
       "      <td>1.110596</td>\n",
       "      <td>1.401367</td>\n",
       "      <td>1.921631</td>\n",
       "    </tr>\n",
       "  </tbody>\n",
       "</table>\n",
       "<p>5 rows × 29 columns</p>\n",
       "</div>"
      ],
      "text/plain": [
       "                              id        F1        F2        F3        F4  \\\n",
       "0  HOBBIES_1_001_CA_1_validation  0.494873  0.671143  0.594971  0.410156   \n",
       "1  HOBBIES_1_002_CA_1_validation  0.452881  0.240234  0.249023  0.427734   \n",
       "2  HOBBIES_1_003_CA_1_validation  0.259766  0.263184  0.133301  0.141846   \n",
       "3  HOBBIES_1_004_CA_1_validation  2.083984  1.457275  1.212891  1.629639   \n",
       "4  HOBBIES_1_005_CA_1_validation  1.173828  1.068848  1.486084  1.108154   \n",
       "\n",
       "         F5        F6        F7        F8        F9  ...       F19       F20  \\\n",
       "0  0.790527  0.484375  0.981445  0.449951  1.213379  ...  0.741943  1.250977   \n",
       "1  0.289795  0.473145  0.614014  0.446533  0.314209  ...  0.345215  0.532715   \n",
       "2  0.316162  0.895020  0.695801  0.307129  0.501709  ...  0.759033  0.792480   \n",
       "3  1.593750  2.004150  2.822998  1.883789  1.739990  ...  2.035400  2.268066   \n",
       "4  1.218262  1.354980  1.568115  1.189697  1.430908  ...  1.203369  1.327393   \n",
       "\n",
       "        F21       F22       F23       F24       F25       F26       F27  \\\n",
       "0  1.158447  0.719482  0.781982  0.730225  1.053711  0.481689  1.223389   \n",
       "1  0.575684  0.253662  0.192871  0.353271  0.287354  0.370361  0.473145   \n",
       "2  0.985107  0.369385  0.452637  0.484619  0.506836  0.677002  0.681885   \n",
       "3  3.036865  2.040527  1.673828  1.769775  1.499268  1.791992  3.079590   \n",
       "4  1.647461  0.996338  1.036133  1.124023  1.348877  1.110596  1.401367   \n",
       "\n",
       "        F28  \n",
       "0  0.851074  \n",
       "1  0.481689  \n",
       "2  0.854980  \n",
       "3  2.970215  \n",
       "4  1.921631  \n",
       "\n",
       "[5 rows x 29 columns]"
      ]
     },
     "execution_count": 14,
     "metadata": {},
     "output_type": "execute_result"
    }
   ],
   "source": [
    "rmse = mse(yval,yval_pred)\n",
    "\n",
    "print(rmse)\n",
    "submission2=submission_term(yval_pred,ytest_pred)\n",
    "submission2.to_csv(\"sample_submission_new.csv\")\n",
    "submission2.head()"
   ]
  },
  {
   "cell_type": "markdown",
   "id": "46c8b5d9",
   "metadata": {},
   "source": [
    "## XG Boost Regression"
   ]
  },
  {
   "cell_type": "code",
   "execution_count": 32,
   "id": "14bdc98d",
   "metadata": {},
   "outputs": [
    {
     "data": {
      "text/plain": [
       "XGBRegressor(base_score=0.5, booster='gbtree', callbacks=None,\n",
       "             colsample_bylevel=1, colsample_bynode=1, colsample_bytree=1,\n",
       "             early_stopping_rounds=None, enable_categorical=False,\n",
       "             eval_metric=None, feature_types=None, gamma=0, gpu_id=-1,\n",
       "             grow_policy='depthwise', importance_type=None,\n",
       "             interaction_constraints='', learning_rate=0.300000012, max_bin=256,\n",
       "             max_cat_threshold=64, max_cat_to_onehot=4, max_delta_step=0,\n",
       "             max_depth=6, max_leaves=0, min_child_weight=1, missing=nan,\n",
       "             monotone_constraints='()', n_estimators=100, n_jobs=0,\n",
       "             num_parallel_tree=1, predictor='auto', random_state=0, ...)"
      ]
     },
     "execution_count": 32,
     "metadata": {},
     "output_type": "execute_result"
    }
   ],
   "source": [
    "import xgboost as xg\n",
    "from xgboost import XGBRegressor\n",
    "\n",
    "xg = XGBRegressor()\n",
    "xg.fit(xtrain,ytrain)"
   ]
  },
  {
   "cell_type": "code",
   "execution_count": 33,
   "id": "a4c8a1ee",
   "metadata": {},
   "outputs": [],
   "source": [
    "yval_pred  = xg.predict(xval)\n",
    "ytest_pred = xg.predict(xtest)"
   ]
  },
  {
   "cell_type": "code",
   "execution_count": 34,
   "id": "9400455f",
   "metadata": {},
   "outputs": [
    {
     "name": "stdout",
     "output_type": "stream",
     "text": [
      "4.823915\n"
     ]
    },
    {
     "name": "stderr",
     "output_type": "stream",
     "text": [
      "100%|██████████████████████████████████████████| 28/28 [00:00<00:00, 697.87it/s]\n"
     ]
    },
    {
     "data": {
      "text/html": [
       "<div>\n",
       "<style scoped>\n",
       "    .dataframe tbody tr th:only-of-type {\n",
       "        vertical-align: middle;\n",
       "    }\n",
       "\n",
       "    .dataframe tbody tr th {\n",
       "        vertical-align: top;\n",
       "    }\n",
       "\n",
       "    .dataframe thead th {\n",
       "        text-align: right;\n",
       "    }\n",
       "</style>\n",
       "<table border=\"1\" class=\"dataframe\">\n",
       "  <thead>\n",
       "    <tr style=\"text-align: right;\">\n",
       "      <th></th>\n",
       "      <th>id</th>\n",
       "      <th>F1</th>\n",
       "      <th>F2</th>\n",
       "      <th>F3</th>\n",
       "      <th>F4</th>\n",
       "      <th>F5</th>\n",
       "      <th>F6</th>\n",
       "      <th>F7</th>\n",
       "      <th>F8</th>\n",
       "      <th>F9</th>\n",
       "      <th>...</th>\n",
       "      <th>F19</th>\n",
       "      <th>F20</th>\n",
       "      <th>F21</th>\n",
       "      <th>F22</th>\n",
       "      <th>F23</th>\n",
       "      <th>F24</th>\n",
       "      <th>F25</th>\n",
       "      <th>F26</th>\n",
       "      <th>F27</th>\n",
       "      <th>F28</th>\n",
       "    </tr>\n",
       "  </thead>\n",
       "  <tbody>\n",
       "    <tr>\n",
       "      <th>0</th>\n",
       "      <td>HOBBIES_1_001_CA_1_validation</td>\n",
       "      <td>0.548948</td>\n",
       "      <td>0.635639</td>\n",
       "      <td>0.565226</td>\n",
       "      <td>0.448413</td>\n",
       "      <td>0.888147</td>\n",
       "      <td>0.572936</td>\n",
       "      <td>0.908161</td>\n",
       "      <td>0.466230</td>\n",
       "      <td>0.958791</td>\n",
       "      <td>...</td>\n",
       "      <td>0.504472</td>\n",
       "      <td>0.934570</td>\n",
       "      <td>0.897020</td>\n",
       "      <td>0.603620</td>\n",
       "      <td>0.700753</td>\n",
       "      <td>0.674214</td>\n",
       "      <td>0.731406</td>\n",
       "      <td>0.533479</td>\n",
       "      <td>1.164374</td>\n",
       "      <td>0.790104</td>\n",
       "    </tr>\n",
       "    <tr>\n",
       "      <th>1</th>\n",
       "      <td>HOBBIES_1_002_CA_1_validation</td>\n",
       "      <td>0.477269</td>\n",
       "      <td>0.307712</td>\n",
       "      <td>0.307712</td>\n",
       "      <td>0.316907</td>\n",
       "      <td>0.279971</td>\n",
       "      <td>0.441175</td>\n",
       "      <td>0.457917</td>\n",
       "      <td>0.309689</td>\n",
       "      <td>0.228686</td>\n",
       "      <td>...</td>\n",
       "      <td>0.277185</td>\n",
       "      <td>0.361596</td>\n",
       "      <td>0.358310</td>\n",
       "      <td>0.270622</td>\n",
       "      <td>0.209709</td>\n",
       "      <td>0.333592</td>\n",
       "      <td>0.225638</td>\n",
       "      <td>0.353694</td>\n",
       "      <td>0.336816</td>\n",
       "      <td>0.336816</td>\n",
       "    </tr>\n",
       "    <tr>\n",
       "      <th>2</th>\n",
       "      <td>HOBBIES_1_003_CA_1_validation</td>\n",
       "      <td>0.289248</td>\n",
       "      <td>0.281285</td>\n",
       "      <td>0.155231</td>\n",
       "      <td>0.153855</td>\n",
       "      <td>0.308794</td>\n",
       "      <td>0.594037</td>\n",
       "      <td>0.515963</td>\n",
       "      <td>0.242058</td>\n",
       "      <td>0.349913</td>\n",
       "      <td>...</td>\n",
       "      <td>0.469556</td>\n",
       "      <td>0.675390</td>\n",
       "      <td>0.854530</td>\n",
       "      <td>0.355807</td>\n",
       "      <td>0.466470</td>\n",
       "      <td>0.376630</td>\n",
       "      <td>0.314255</td>\n",
       "      <td>0.451043</td>\n",
       "      <td>0.562536</td>\n",
       "      <td>0.588482</td>\n",
       "    </tr>\n",
       "    <tr>\n",
       "      <th>3</th>\n",
       "      <td>HOBBIES_1_004_CA_1_validation</td>\n",
       "      <td>2.247004</td>\n",
       "      <td>1.579988</td>\n",
       "      <td>1.373273</td>\n",
       "      <td>1.577932</td>\n",
       "      <td>2.078691</td>\n",
       "      <td>2.256279</td>\n",
       "      <td>3.103484</td>\n",
       "      <td>1.917374</td>\n",
       "      <td>1.569374</td>\n",
       "      <td>...</td>\n",
       "      <td>2.290147</td>\n",
       "      <td>2.528043</td>\n",
       "      <td>3.443142</td>\n",
       "      <td>1.848240</td>\n",
       "      <td>1.633349</td>\n",
       "      <td>2.022755</td>\n",
       "      <td>1.504826</td>\n",
       "      <td>1.898533</td>\n",
       "      <td>3.336737</td>\n",
       "      <td>2.783947</td>\n",
       "    </tr>\n",
       "    <tr>\n",
       "      <th>4</th>\n",
       "      <td>HOBBIES_1_005_CA_1_validation</td>\n",
       "      <td>1.126581</td>\n",
       "      <td>1.031596</td>\n",
       "      <td>1.111398</td>\n",
       "      <td>0.978862</td>\n",
       "      <td>1.266147</td>\n",
       "      <td>1.487973</td>\n",
       "      <td>1.510789</td>\n",
       "      <td>1.101612</td>\n",
       "      <td>1.088830</td>\n",
       "      <td>...</td>\n",
       "      <td>1.015085</td>\n",
       "      <td>1.261492</td>\n",
       "      <td>1.585064</td>\n",
       "      <td>0.933491</td>\n",
       "      <td>1.001521</td>\n",
       "      <td>0.782883</td>\n",
       "      <td>1.080777</td>\n",
       "      <td>0.978209</td>\n",
       "      <td>1.299791</td>\n",
       "      <td>1.855562</td>\n",
       "    </tr>\n",
       "  </tbody>\n",
       "</table>\n",
       "<p>5 rows × 29 columns</p>\n",
       "</div>"
      ],
      "text/plain": [
       "                              id        F1        F2        F3        F4  \\\n",
       "0  HOBBIES_1_001_CA_1_validation  0.548948  0.635639  0.565226  0.448413   \n",
       "1  HOBBIES_1_002_CA_1_validation  0.477269  0.307712  0.307712  0.316907   \n",
       "2  HOBBIES_1_003_CA_1_validation  0.289248  0.281285  0.155231  0.153855   \n",
       "3  HOBBIES_1_004_CA_1_validation  2.247004  1.579988  1.373273  1.577932   \n",
       "4  HOBBIES_1_005_CA_1_validation  1.126581  1.031596  1.111398  0.978862   \n",
       "\n",
       "         F5        F6        F7        F8        F9  ...       F19       F20  \\\n",
       "0  0.888147  0.572936  0.908161  0.466230  0.958791  ...  0.504472  0.934570   \n",
       "1  0.279971  0.441175  0.457917  0.309689  0.228686  ...  0.277185  0.361596   \n",
       "2  0.308794  0.594037  0.515963  0.242058  0.349913  ...  0.469556  0.675390   \n",
       "3  2.078691  2.256279  3.103484  1.917374  1.569374  ...  2.290147  2.528043   \n",
       "4  1.266147  1.487973  1.510789  1.101612  1.088830  ...  1.015085  1.261492   \n",
       "\n",
       "        F21       F22       F23       F24       F25       F26       F27  \\\n",
       "0  0.897020  0.603620  0.700753  0.674214  0.731406  0.533479  1.164374   \n",
       "1  0.358310  0.270622  0.209709  0.333592  0.225638  0.353694  0.336816   \n",
       "2  0.854530  0.355807  0.466470  0.376630  0.314255  0.451043  0.562536   \n",
       "3  3.443142  1.848240  1.633349  2.022755  1.504826  1.898533  3.336737   \n",
       "4  1.585064  0.933491  1.001521  0.782883  1.080777  0.978209  1.299791   \n",
       "\n",
       "        F28  \n",
       "0  0.790104  \n",
       "1  0.336816  \n",
       "2  0.588482  \n",
       "3  2.783947  \n",
       "4  1.855562  \n",
       "\n",
       "[5 rows x 29 columns]"
      ]
     },
     "execution_count": 34,
     "metadata": {},
     "output_type": "execute_result"
    }
   ],
   "source": [
    "rmse = mse(yval,yval_pred)\n",
    "\n",
    "print(rmse)\n",
    "submission2=submission_term(yval_pred,ytest_pred)\n",
    "submission2.to_csv(\"sample_submission_new.csv\")\n",
    "submission2.head()"
   ]
  },
  {
   "cell_type": "markdown",
   "id": "2cf83b69",
   "metadata": {},
   "source": [
    "## KNN"
   ]
  },
  {
   "cell_type": "code",
   "execution_count": 35,
   "id": "2262ff69",
   "metadata": {},
   "outputs": [
    {
     "data": {
      "text/plain": [
       "KNeighborsRegressor()"
      ]
     },
     "execution_count": 35,
     "metadata": {},
     "output_type": "execute_result"
    }
   ],
   "source": [
    "from sklearn import neighbors\n",
    "knn = neighbors.KNeighborsRegressor()\n",
    "knn.fit(xtrain,ytrain)"
   ]
  },
  {
   "cell_type": "code",
   "execution_count": 39,
   "id": "b21881e5",
   "metadata": {},
   "outputs": [],
   "source": [
    "yval_pred  = knn.predict(xval)\n",
    "ytest_pred = knn.predict(xtest)"
   ]
  },
  {
   "cell_type": "code",
   "execution_count": 40,
   "id": "39fe16c9",
   "metadata": {},
   "outputs": [
    {
     "name": "stdout",
     "output_type": "stream",
     "text": [
      "5.723131\n"
     ]
    }
   ],
   "source": [
    "rmse = mse(yval,yval_pred)\n",
    "\n",
    "print(rmse)\n",
    "submission2=submission_term(yval_pred,ytest_pred)\n",
    "submission2.to_csv(\"sample_submission_new.csv\")\n",
    "submission2.head()"
   ]
  },
  {
   "cell_type": "markdown",
   "id": "556589cd",
   "metadata": {
    "id": "556589cd"
   },
   "source": [
    "# lgbm"
   ]
  },
  {
   "cell_type": "code",
   "execution_count": null,
   "id": "f154888e",
   "metadata": {},
   "outputs": [],
   "source": []
  },
  {
   "cell_type": "code",
   "execution_count": null,
   "id": "95ef5dd7",
   "metadata": {
    "id": "95ef5dd7"
   },
   "outputs": [],
   "source": [
    "from lightgbm import LGBMRegressor"
   ]
  },
  {
   "cell_type": "code",
   "execution_count": null,
   "id": "5af86827",
   "metadata": {
    "id": "5af86827"
   },
   "outputs": [],
   "source": [
    "for i in range(15):\n",
    "    lr = np.round(np.random.rand()/10,3)\n",
    "    num_leaves = np.random.randint(30,150)\n",
    "    min_data_in_leaf = np.random.randint(50,150)\n",
    "\n",
    "    lgb = LGBMRegressor( learning_rate=lr ,\n",
    "                            num_leaves=num_leaves ,\n",
    "                            min_data_in_leaf=min_data_in_leaf)\n",
    "\n",
    "    lgb.fit(xtrain, ytrain)\n",
    "\n",
    "    # After training the model, we are trying to predict the model on X_val to check it's accuracy\n",
    "    y_pred = lgb.predict(xval)\n",
    "\n",
    "    # Now that it has predicted the values for X_val, we are calculating it's rmse\n",
    "    rmse = mse(yval,y_pred)\n",
    "    \n",
    "    print(f\"For learning rate {lr}, num_leaves {num_leaves} and min_data_in_leaf {min_data_in_leaf} the RMSE is {rmse} \")\n",
    "    print('*'*80)"
   ]
  },
  {
   "cell_type": "code",
   "execution_count": null,
   "id": "2b856b4f",
   "metadata": {
    "id": "2b856b4f"
   },
   "outputs": [],
   "source": [
    "#best parameter:\n",
    "min_data_in_leaf=114\n",
    "lr =0.089\n",
    "num_leaves= 146 \n",
    "\n",
    "best_lgb = LGBMRegressor( learning_rate=lr ,num_leaves=num_leaves ,min_data_in_leaf=min_data_in_leaf)\n",
    "best_lgb.fit(xtrain,ytrain)\n",
    "\n",
    "yval_pred  = best_lgb.predict(xval)\n",
    "ytest_pred = best_lgb.predict(xtest)\n",
    "\n",
    "rmse = mse(yval,yval_pred)\n",
    "print(rmse)"
   ]
  },
  {
   "cell_type": "code",
   "execution_count": null,
   "id": "5a2a8de3",
   "metadata": {
    "id": "5a2a8de3"
   },
   "outputs": [],
   "source": [
    "submission3=submission_term(yval_pred,ytest_pred)\n",
    "submission3.to_csv(\"best_sample_submission.csv\")\n",
    "submission3.head()"
   ]
  },
  {
   "cell_type": "code",
   "execution_count": null,
   "id": "3f26a2c3",
   "metadata": {
    "id": "3f26a2c3"
   },
   "outputs": [],
   "source": [
    "import lightgbm as lgb\n",
    "lgb.plot_importance(best_lgb, figsize=(10, 12))"
   ]
  },
  {
   "cell_type": "markdown",
   "id": "b8be4d53",
   "metadata": {
    "id": "47db6b8d"
   },
   "source": [
    "## LSTM\n"
   ]
  },
  {
   "cell_type": "code",
   "execution_count": null,
   "id": "186e5244",
   "metadata": {},
   "outputs": [],
   "source": [
    "from keras.preprocessing import sequence\n",
    "from keras.models import Sequential\n",
    "from keras.layers import Dense, Embedding\n",
    "from keras.layers import LSTM\n",
    "from keras.datasets import imdb"
   ]
  },
  {
   "cell_type": "code",
   "execution_count": 5,
   "id": "3dae8c2f",
   "metadata": {},
   "outputs": [
    {
     "ename": "KeyboardInterrupt",
     "evalue": "",
     "output_type": "error",
     "traceback": [
      "\u001b[0;31m---------------------------------------------------------------------------\u001b[0m",
      "\u001b[0;31mKeyboardInterrupt\u001b[0m                         Traceback (most recent call last)",
      "Input \u001b[0;32mIn [5]\u001b[0m, in \u001b[0;36m<cell line: 1>\u001b[0;34m()\u001b[0m\n\u001b[0;32m----> 1\u001b[0m data\u001b[38;5;241m=\u001b[39m\u001b[43mpd\u001b[49m\u001b[38;5;241;43m.\u001b[39;49m\u001b[43mread_csv\u001b[49m\u001b[43m(\u001b[49m\u001b[38;5;124;43m'\u001b[39;49m\u001b[38;5;124;43mdf_final.csv\u001b[39;49m\u001b[38;5;124;43m'\u001b[39;49m\u001b[43m)\u001b[49m\n\u001b[1;32m      3\u001b[0m df_final\u001b[38;5;241m.\u001b[39mto_pickle(\u001b[38;5;124m\"\u001b[39m\u001b[38;5;124mdf_final_4.pkl\u001b[39m\u001b[38;5;124m\"\u001b[39m,protocol\u001b[38;5;241m=\u001b[39m\u001b[38;5;241m4\u001b[39m)\n",
      "File \u001b[0;32m/opt/anaconda3/lib/python3.9/site-packages/pandas/util/_decorators.py:311\u001b[0m, in \u001b[0;36mdeprecate_nonkeyword_arguments.<locals>.decorate.<locals>.wrapper\u001b[0;34m(*args, **kwargs)\u001b[0m\n\u001b[1;32m    305\u001b[0m \u001b[38;5;28;01mif\u001b[39;00m \u001b[38;5;28mlen\u001b[39m(args) \u001b[38;5;241m>\u001b[39m num_allow_args:\n\u001b[1;32m    306\u001b[0m     warnings\u001b[38;5;241m.\u001b[39mwarn(\n\u001b[1;32m    307\u001b[0m         msg\u001b[38;5;241m.\u001b[39mformat(arguments\u001b[38;5;241m=\u001b[39marguments),\n\u001b[1;32m    308\u001b[0m         \u001b[38;5;167;01mFutureWarning\u001b[39;00m,\n\u001b[1;32m    309\u001b[0m         stacklevel\u001b[38;5;241m=\u001b[39mstacklevel,\n\u001b[1;32m    310\u001b[0m     )\n\u001b[0;32m--> 311\u001b[0m \u001b[38;5;28;01mreturn\u001b[39;00m \u001b[43mfunc\u001b[49m\u001b[43m(\u001b[49m\u001b[38;5;241;43m*\u001b[39;49m\u001b[43margs\u001b[49m\u001b[43m,\u001b[49m\u001b[43m \u001b[49m\u001b[38;5;241;43m*\u001b[39;49m\u001b[38;5;241;43m*\u001b[39;49m\u001b[43mkwargs\u001b[49m\u001b[43m)\u001b[49m\n",
      "File \u001b[0;32m/opt/anaconda3/lib/python3.9/site-packages/pandas/io/parsers/readers.py:680\u001b[0m, in \u001b[0;36mread_csv\u001b[0;34m(filepath_or_buffer, sep, delimiter, header, names, index_col, usecols, squeeze, prefix, mangle_dupe_cols, dtype, engine, converters, true_values, false_values, skipinitialspace, skiprows, skipfooter, nrows, na_values, keep_default_na, na_filter, verbose, skip_blank_lines, parse_dates, infer_datetime_format, keep_date_col, date_parser, dayfirst, cache_dates, iterator, chunksize, compression, thousands, decimal, lineterminator, quotechar, quoting, doublequote, escapechar, comment, encoding, encoding_errors, dialect, error_bad_lines, warn_bad_lines, on_bad_lines, delim_whitespace, low_memory, memory_map, float_precision, storage_options)\u001b[0m\n\u001b[1;32m    665\u001b[0m kwds_defaults \u001b[38;5;241m=\u001b[39m _refine_defaults_read(\n\u001b[1;32m    666\u001b[0m     dialect,\n\u001b[1;32m    667\u001b[0m     delimiter,\n\u001b[0;32m   (...)\u001b[0m\n\u001b[1;32m    676\u001b[0m     defaults\u001b[38;5;241m=\u001b[39m{\u001b[38;5;124m\"\u001b[39m\u001b[38;5;124mdelimiter\u001b[39m\u001b[38;5;124m\"\u001b[39m: \u001b[38;5;124m\"\u001b[39m\u001b[38;5;124m,\u001b[39m\u001b[38;5;124m\"\u001b[39m},\n\u001b[1;32m    677\u001b[0m )\n\u001b[1;32m    678\u001b[0m kwds\u001b[38;5;241m.\u001b[39mupdate(kwds_defaults)\n\u001b[0;32m--> 680\u001b[0m \u001b[38;5;28;01mreturn\u001b[39;00m \u001b[43m_read\u001b[49m\u001b[43m(\u001b[49m\u001b[43mfilepath_or_buffer\u001b[49m\u001b[43m,\u001b[49m\u001b[43m \u001b[49m\u001b[43mkwds\u001b[49m\u001b[43m)\u001b[49m\n",
      "File \u001b[0;32m/opt/anaconda3/lib/python3.9/site-packages/pandas/io/parsers/readers.py:581\u001b[0m, in \u001b[0;36m_read\u001b[0;34m(filepath_or_buffer, kwds)\u001b[0m\n\u001b[1;32m    578\u001b[0m     \u001b[38;5;28;01mreturn\u001b[39;00m parser\n\u001b[1;32m    580\u001b[0m \u001b[38;5;28;01mwith\u001b[39;00m parser:\n\u001b[0;32m--> 581\u001b[0m     \u001b[38;5;28;01mreturn\u001b[39;00m \u001b[43mparser\u001b[49m\u001b[38;5;241;43m.\u001b[39;49m\u001b[43mread\u001b[49m\u001b[43m(\u001b[49m\u001b[43mnrows\u001b[49m\u001b[43m)\u001b[49m\n",
      "File \u001b[0;32m/opt/anaconda3/lib/python3.9/site-packages/pandas/io/parsers/readers.py:1254\u001b[0m, in \u001b[0;36mTextFileReader.read\u001b[0;34m(self, nrows)\u001b[0m\n\u001b[1;32m   1252\u001b[0m nrows \u001b[38;5;241m=\u001b[39m validate_integer(\u001b[38;5;124m\"\u001b[39m\u001b[38;5;124mnrows\u001b[39m\u001b[38;5;124m\"\u001b[39m, nrows)\n\u001b[1;32m   1253\u001b[0m \u001b[38;5;28;01mtry\u001b[39;00m:\n\u001b[0;32m-> 1254\u001b[0m     index, columns, col_dict \u001b[38;5;241m=\u001b[39m \u001b[38;5;28;43mself\u001b[39;49m\u001b[38;5;241;43m.\u001b[39;49m\u001b[43m_engine\u001b[49m\u001b[38;5;241;43m.\u001b[39;49m\u001b[43mread\u001b[49m\u001b[43m(\u001b[49m\u001b[43mnrows\u001b[49m\u001b[43m)\u001b[49m\n\u001b[1;32m   1255\u001b[0m \u001b[38;5;28;01mexcept\u001b[39;00m \u001b[38;5;167;01mException\u001b[39;00m:\n\u001b[1;32m   1256\u001b[0m     \u001b[38;5;28mself\u001b[39m\u001b[38;5;241m.\u001b[39mclose()\n",
      "File \u001b[0;32m/opt/anaconda3/lib/python3.9/site-packages/pandas/io/parsers/c_parser_wrapper.py:225\u001b[0m, in \u001b[0;36mCParserWrapper.read\u001b[0;34m(self, nrows)\u001b[0m\n\u001b[1;32m    223\u001b[0m \u001b[38;5;28;01mtry\u001b[39;00m:\n\u001b[1;32m    224\u001b[0m     \u001b[38;5;28;01mif\u001b[39;00m \u001b[38;5;28mself\u001b[39m\u001b[38;5;241m.\u001b[39mlow_memory:\n\u001b[0;32m--> 225\u001b[0m         chunks \u001b[38;5;241m=\u001b[39m \u001b[38;5;28;43mself\u001b[39;49m\u001b[38;5;241;43m.\u001b[39;49m\u001b[43m_reader\u001b[49m\u001b[38;5;241;43m.\u001b[39;49m\u001b[43mread_low_memory\u001b[49m\u001b[43m(\u001b[49m\u001b[43mnrows\u001b[49m\u001b[43m)\u001b[49m\n\u001b[1;32m    226\u001b[0m         \u001b[38;5;66;03m# destructive to chunks\u001b[39;00m\n\u001b[1;32m    227\u001b[0m         data \u001b[38;5;241m=\u001b[39m _concatenate_chunks(chunks)\n",
      "File \u001b[0;32m/opt/anaconda3/lib/python3.9/site-packages/pandas/_libs/parsers.pyx:805\u001b[0m, in \u001b[0;36mpandas._libs.parsers.TextReader.read_low_memory\u001b[0;34m()\u001b[0m\n",
      "File \u001b[0;32m/opt/anaconda3/lib/python3.9/site-packages/pandas/_libs/parsers.pyx:883\u001b[0m, in \u001b[0;36mpandas._libs.parsers.TextReader._read_rows\u001b[0;34m()\u001b[0m\n",
      "File \u001b[0;32m/opt/anaconda3/lib/python3.9/site-packages/pandas/_libs/parsers.pyx:1026\u001b[0m, in \u001b[0;36mpandas._libs.parsers.TextReader._convert_column_data\u001b[0;34m()\u001b[0m\n",
      "File \u001b[0;32m/opt/anaconda3/lib/python3.9/site-packages/pandas/_libs/parsers.pyx:1072\u001b[0m, in \u001b[0;36mpandas._libs.parsers.TextReader._convert_tokens\u001b[0;34m()\u001b[0m\n",
      "File \u001b[0;32m/opt/anaconda3/lib/python3.9/site-packages/pandas/_libs/parsers.pyx:1147\u001b[0m, in \u001b[0;36mpandas._libs.parsers.TextReader._convert_with_dtype\u001b[0;34m()\u001b[0m\n",
      "File \u001b[0;32m/opt/anaconda3/lib/python3.9/site-packages/pandas/core/dtypes/common.py:1429\u001b[0m, in \u001b[0;36mis_extension_array_dtype\u001b[0;34m(arr_or_dtype)\u001b[0m\n\u001b[1;32m   1420\u001b[0m     \u001b[38;5;66;03m# Note: if other EA dtypes are ever held in HybridBlock, exclude those\u001b[39;00m\n\u001b[1;32m   1421\u001b[0m     \u001b[38;5;66;03m#  here too.\u001b[39;00m\n\u001b[1;32m   1422\u001b[0m     \u001b[38;5;66;03m# NB: need to check DatetimeTZDtype and not is_datetime64tz_dtype\u001b[39;00m\n\u001b[1;32m   1423\u001b[0m     \u001b[38;5;66;03m#  to exclude ArrowTimestampUSDtype\u001b[39;00m\n\u001b[1;32m   1424\u001b[0m     \u001b[38;5;28;01mreturn\u001b[39;00m \u001b[38;5;28misinstance\u001b[39m(dtype, ExtensionDtype) \u001b[38;5;129;01mand\u001b[39;00m \u001b[38;5;129;01mnot\u001b[39;00m \u001b[38;5;28misinstance\u001b[39m(\n\u001b[1;32m   1425\u001b[0m         dtype, (DatetimeTZDtype, PeriodDtype)\n\u001b[1;32m   1426\u001b[0m     )\n\u001b[0;32m-> 1429\u001b[0m \u001b[38;5;28;01mdef\u001b[39;00m \u001b[38;5;21mis_extension_array_dtype\u001b[39m(arr_or_dtype) \u001b[38;5;241m-\u001b[39m\u001b[38;5;241m>\u001b[39m \u001b[38;5;28mbool\u001b[39m:\n\u001b[1;32m   1430\u001b[0m     \u001b[38;5;124;03m\"\"\"\u001b[39;00m\n\u001b[1;32m   1431\u001b[0m \u001b[38;5;124;03m    Check if an object is a pandas extension array type.\u001b[39;00m\n\u001b[1;32m   1432\u001b[0m \n\u001b[0;32m   (...)\u001b[0m\n\u001b[1;32m   1472\u001b[0m \u001b[38;5;124;03m    False\u001b[39;00m\n\u001b[1;32m   1473\u001b[0m \u001b[38;5;124;03m    \"\"\"\u001b[39;00m\n\u001b[1;32m   1474\u001b[0m     dtype \u001b[38;5;241m=\u001b[39m \u001b[38;5;28mgetattr\u001b[39m(arr_or_dtype, \u001b[38;5;124m\"\u001b[39m\u001b[38;5;124mdtype\u001b[39m\u001b[38;5;124m\"\u001b[39m, arr_or_dtype)\n",
      "\u001b[0;31mKeyboardInterrupt\u001b[0m: "
     ]
    }
   ],
   "source": [
    "print('x_train shape:', x_train.shape)\n",
    "print('x_test shape:', x_test.shape)\n",
    "\n"
   ]
  },
  {
   "cell_type": "code",
   "execution_count": 7,
   "id": "da61d85d",
   "metadata": {},
   "outputs": [],
   "source": [
    "data.to_pickle(\"df_final_4.pkl\",protocol=4)"
   ]
  },
  {
   "cell_type": "code",
   "execution_count": 18,
   "id": "6471a9e1",
   "metadata": {},
   "outputs": [
    {
     "name": "stdout",
     "output_type": "stream",
     "text": [
      "x_train shape: (12592370, 33)\n",
      "x_test shape: (853720, 33)\n"
     ]
    }
   ],
   "source": [
    "print('x_train shape:', xtrain.shape)\n",
    "print('x_test shape:', xtest.shape)"
   ]
  },
  {
   "cell_type": "code",
   "execution_count": null,
   "id": "31f37865",
   "metadata": {},
   "outputs": [],
   "source": [
    "model = Sequential()\n",
    "#model.add(Embedding(max_features, 128))\n",
    "model.add(LSTM((1)))\n",
    "model.add(Dense(1, activation='sigmoid'))\n",
    "\n",
    "model.compile(loss='mean_absolute_error',\n",
    "              optimizer='adam',\n",
    "              metrics=['accuracy'])\n",
    "\n",
    "\n",
    "model.fit(xtrain, ytrain,\n",
    "          batch_size=32,\n",
    "          epochs=5,\n",
    "          validation_data=(xval, yval))\n",
    "\n",
    "yval_pred  = model.predict(xval)\n",
    "ytest_pred = model.predict(xtest)\n",
    "\n",
    "\n",
    "rmse = mse(yval,yval_pred)\n",
    "print(rmse)"
   ]
  }
 ],
 "metadata": {
  "colab": {
   "provenance": []
  },
  "kernelspec": {
   "display_name": "Python 3 (ipykernel)",
   "language": "python",
   "name": "python3"
  },
  "language_info": {
   "codemirror_mode": {
    "name": "ipython",
    "version": 3
   },
   "file_extension": ".py",
   "mimetype": "text/x-python",
   "name": "python",
   "nbconvert_exporter": "python",
   "pygments_lexer": "ipython3",
   "version": "3.9.12"
  }
 },
 "nbformat": 4,
 "nbformat_minor": 5
}
